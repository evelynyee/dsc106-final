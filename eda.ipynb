{
 "cells": [
  {
   "attachments": {},
   "cell_type": "markdown",
   "metadata": {},
   "source": [
    "## Etymology"
   ]
  },
  {
   "cell_type": "code",
   "execution_count": 1,
   "metadata": {},
   "outputs": [],
   "source": [
    "import pandas as pd\n",
    "import json"
   ]
  },
  {
   "cell_type": "code",
   "execution_count": 2,
   "metadata": {},
   "outputs": [
    {
     "data": {
      "text/html": [
       "<div>\n",
       "<style scoped>\n",
       "    .dataframe tbody tr th:only-of-type {\n",
       "        vertical-align: middle;\n",
       "    }\n",
       "\n",
       "    .dataframe tbody tr th {\n",
       "        vertical-align: top;\n",
       "    }\n",
       "\n",
       "    .dataframe thead th {\n",
       "        text-align: right;\n",
       "    }\n",
       "</style>\n",
       "<table border=\"1\" class=\"dataframe\">\n",
       "  <thead>\n",
       "    <tr style=\"text-align: right;\">\n",
       "      <th></th>\n",
       "      <th>term_id</th>\n",
       "      <th>lang</th>\n",
       "      <th>term</th>\n",
       "      <th>reltype</th>\n",
       "      <th>related_term_id</th>\n",
       "      <th>related_lang</th>\n",
       "      <th>related_term</th>\n",
       "      <th>position</th>\n",
       "      <th>group_tag</th>\n",
       "      <th>parent_tag</th>\n",
       "      <th>parent_position</th>\n",
       "    </tr>\n",
       "  </thead>\n",
       "  <tbody>\n",
       "    <tr>\n",
       "      <th>0</th>\n",
       "      <td>8_rYLlLyVOKJlGFPZIvpVA</td>\n",
       "      <td>English</td>\n",
       "      <td>thesaurus</td>\n",
       "      <td>group_derived_root</td>\n",
       "      <td>NaN</td>\n",
       "      <td>NaN</td>\n",
       "      <td>NaN</td>\n",
       "      <td>0</td>\n",
       "      <td>0IIU6TlkSA2D7dg1PfxGOw</td>\n",
       "      <td>NaN</td>\n",
       "      <td>NaN</td>\n",
       "    </tr>\n",
       "    <tr>\n",
       "      <th>1</th>\n",
       "      <td>8_rYLlLyVOKJlGFPZIvpVA</td>\n",
       "      <td>English</td>\n",
       "      <td>thesaurus</td>\n",
       "      <td>borrowed_from</td>\n",
       "      <td>fhl-sdgwXaWvYD8CgaKXpQ</td>\n",
       "      <td>Latin</td>\n",
       "      <td>thēsaurus</td>\n",
       "      <td>0</td>\n",
       "      <td>NaN</td>\n",
       "      <td>0IIU6TlkSA2D7dg1PfxGOw</td>\n",
       "      <td>0.0</td>\n",
       "    </tr>\n",
       "    <tr>\n",
       "      <th>2</th>\n",
       "      <td>8_rYLlLyVOKJlGFPZIvpVA</td>\n",
       "      <td>English</td>\n",
       "      <td>thesaurus</td>\n",
       "      <td>derived_from</td>\n",
       "      <td>7Rf1835bWYmlH9VnyYVbpg</td>\n",
       "      <td>Ancient Greek</td>\n",
       "      <td>θησαυρός</td>\n",
       "      <td>0</td>\n",
       "      <td>NaN</td>\n",
       "      <td>0IIU6TlkSA2D7dg1PfxGOw</td>\n",
       "      <td>1.0</td>\n",
       "    </tr>\n",
       "    <tr>\n",
       "      <th>3</th>\n",
       "      <td>8_rYLlLyVOKJlGFPZIvpVA</td>\n",
       "      <td>English</td>\n",
       "      <td>thesaurus</td>\n",
       "      <td>doublet_with</td>\n",
       "      <td>sqiifJX3XIOQ0vZ0trzRaA</td>\n",
       "      <td>English</td>\n",
       "      <td>treasure</td>\n",
       "      <td>0</td>\n",
       "      <td>NaN</td>\n",
       "      <td>NaN</td>\n",
       "      <td>NaN</td>\n",
       "    </tr>\n",
       "    <tr>\n",
       "      <th>4</th>\n",
       "      <td>iwDzanYmWxaUKbOlUy2yyQ</td>\n",
       "      <td>Latin</td>\n",
       "      <td>thesaurus</td>\n",
       "      <td>derived_from</td>\n",
       "      <td>7Rf1835bWYmlH9VnyYVbpg</td>\n",
       "      <td>Ancient Greek</td>\n",
       "      <td>θησαυρός</td>\n",
       "      <td>0</td>\n",
       "      <td>NaN</td>\n",
       "      <td>NaN</td>\n",
       "      <td>NaN</td>\n",
       "    </tr>\n",
       "  </tbody>\n",
       "</table>\n",
       "</div>"
      ],
      "text/plain": [
       "                  term_id     lang       term             reltype   \n",
       "0  8_rYLlLyVOKJlGFPZIvpVA  English  thesaurus  group_derived_root  \\\n",
       "1  8_rYLlLyVOKJlGFPZIvpVA  English  thesaurus       borrowed_from   \n",
       "2  8_rYLlLyVOKJlGFPZIvpVA  English  thesaurus        derived_from   \n",
       "3  8_rYLlLyVOKJlGFPZIvpVA  English  thesaurus        doublet_with   \n",
       "4  iwDzanYmWxaUKbOlUy2yyQ    Latin  thesaurus        derived_from   \n",
       "\n",
       "          related_term_id   related_lang related_term  position   \n",
       "0                     NaN            NaN          NaN         0  \\\n",
       "1  fhl-sdgwXaWvYD8CgaKXpQ          Latin    thēsaurus         0   \n",
       "2  7Rf1835bWYmlH9VnyYVbpg  Ancient Greek     θησαυρός         0   \n",
       "3  sqiifJX3XIOQ0vZ0trzRaA        English     treasure         0   \n",
       "4  7Rf1835bWYmlH9VnyYVbpg  Ancient Greek     θησαυρός         0   \n",
       "\n",
       "                group_tag              parent_tag  parent_position  \n",
       "0  0IIU6TlkSA2D7dg1PfxGOw                     NaN              NaN  \n",
       "1                     NaN  0IIU6TlkSA2D7dg1PfxGOw              0.0  \n",
       "2                     NaN  0IIU6TlkSA2D7dg1PfxGOw              1.0  \n",
       "3                     NaN                     NaN              NaN  \n",
       "4                     NaN                     NaN              NaN  "
      ]
     },
     "metadata": {},
     "output_type": "display_data"
    },
    {
     "name": "stdout",
     "output_type": "stream",
     "text": [
      "(3884337, 11)\n",
      "(880736, 11)\n"
     ]
    },
    {
     "data": {
      "text/plain": [
       "(220184, 11)"
      ]
     },
     "execution_count": 2,
     "metadata": {},
     "output_type": "execute_result"
    }
   ],
   "source": [
    "# load data, view dataset size\n",
    "et = pd.read_csv('../data/etymology.csv')\n",
    "display(et.head())\n",
    "print(et.shape)\n",
    "eng = et[(et['lang'] == 'English')]\n",
    "print(eng.shape)\n",
    "eng.head()\n",
    "test = eng.iloc[:eng.shape[0]//4]\n",
    "test.shape"
   ]
  },
  {
   "cell_type": "code",
   "execution_count": null,
   "metadata": {},
   "outputs": [],
   "source": [
    "# test.to_csv('Final\\data\\\\test_english.csv')\n",
    "# eng.to_csv('Final\\data\\\\english.csv')"
   ]
  },
  {
   "cell_type": "code",
   "execution_count": 65,
   "metadata": {},
   "outputs": [
    {
     "name": "stdout",
     "output_type": "stream",
     "text": [
      "{'mandeali', 'selkup', 'laurentian', 'punic', 'ewondo', 'miya', 'kavalan', 'bodo (india)', 'pacoh', 'ontong java', 'prasuni', 'ruching palaung', 'khvarshi', 'giryama', 'narua', 'kudmali', 'cemuhî', 'nagtipunan agta', 'saramaccan', 'ubykh', 'francisco león zoque', 'catuquinaru', 'serrano', 'pecheneg', 'hunzib', 'gcwi', 'choapan zapotec', 'old danish', 'russian', 'san juan colorado mixtec', 'komodo', 'tugen', 'italiot greek', 'cappadocian greek', \"s'gaw karen\", 'rusyn', 'biloxi', 'batad ifugao', 'proto-balto-slavic', 'asilulu', 'moroccan arabic', 'kiowa', 'hidatsa', 'faliscan', 'nivkh', 'southern thai', 'central sierra miwok', 'nepali', 'welsh', 'proto-na-dene', 'wathaurong', 'carian', 'hre', 'tagish', 'wardaman', 'ket', 'ajië', 'maypure', 'istro-romanian', 'tundra nenets', 'kerek', 'parthian', 'pare', 'old novgorodian', 'sindarin', 'emerillon', 'proto-ossetic', 'hpon', 'kimaragang', 'shina', 'northern ndebele', 'lower chehalis', 'gmw', 'meru', 'totoli', 'ralte', 'semai', 'kituba', 'talossan', 'shinasha', 'lapaguía-guivini zapotec', 'kpelle', 'mal', 'dalmatian', 'nyenkha', 'upper kuskokwim', 'banda', 'nefusa', 'laki', 'yaa', 'big nambas', 'pichinglis', 'amharic', 'kubu', 'provençal', 'embu', 'rutul', 'saanich', 'kulon-pazeh', 'raute', 'kuwaa', 'quechua', 'jumaytepeque', 'algonquin', 'southern east cree', 'gullah', 'proto-mordvinic', 'neo-assyrian', 'middle kannada', 'proto-cushitic', 'u', 'kamarupi prakrit', 'proto-uralic', 'isinai', 'lhokpu', 'pijao', 'tomo kan dogon', 'jah hut', 'tontemboan', 'maharastri prakrit', 'kamkata-viri', 'jehai', 'laboya', 'lydian', 'proto-zapotecan', 'haroi', 'tataltepec chatino', 'tavringer romani', 'loup a', 'frankish', 'ata manobo', 'kua-nsi', 'kok-paponk', 'tampuan', 'mansaka', 'koine greek', 'hausa', 'kwamera', 'lamaholot', 'pije', 'javanese', 'margany', 'mundari', 'tiwa', 'gothic', 'fogaha', 'matumbi', 'tambunan dusun', 'uma', 'chinese', 'amarizana', 'southern kam', 'proto-tani', 'kannada', 'ilianen manobo', 'dadibi', 'sahidic coptic', 'tariana', 'old frisian', 'southern altai', 'xokleng', 'mycenaean greek', 'proto-arawak', 'warao', 'proto-sara', 'adi', 'aka-bo', 'yiddish', 'mori bawah', 'monguor', 'american english', 'yaeyama', 'late egyptian', 'picard old french', 'tregami', 'etruscan', 'proto-mixe-zoque', 'uzbek', 'pawnee', 'korean', 'ngaju', 'marka', 'early mandarin', 'abkhaz', 'proto-chatino', 'central puebla nahuatl', 'galibi carib', 'bintulu', 'semnam', 'chadian arabic', 'luganda', 'moronene', 'paelignian', 'en', 'inuinnaqtun', 'nihali', 'gayil', 'bahamian creole', 'plains apache', 'tuwali ifugao', 'old marathi', 'shughni', 'teribe', 'sardinian', 'tundra enets', 'proto-northern jê', 'kanakanabu', 'irish sign language', 'kowiai', 'baha', 'sekar', \"niuafo'ou\", 'farefare', 'zenaga', 'marshallese', 'hakö', 'asi', 'proto-ugric', 'kuku-uwanh', 'antillean creole', 'proto-lolo-burmese', 'achaemenid elamite', 'northern tutchone', 'bombay hindi', 'kaonde', 'baharna arabic', 'koyraboro senni', 'shona', 'western neo-aramaic', 'anglo-norman', 'pattani', 'proto-kra-dai', 'dra', 'hän', 'guyanese creole english', 'vestinian', 'ira', 'yalálag zapotec', 'dendi', 'hindi', 'shawnee', 'esmeralda', 'korlai creole portuguese', 'mag-anchi ayta', 'tukudede', 'kemi sami', 'makhuwa', 'pra', 'panará', 'mishnaic hebrew', 'east central german', 'konyak naga', 'old russian', 'kambera', 'eastern maninkakan', 'west greenlandic pidgin', 'upper saxon', 'proto-central chadic', 'rakahanga-manihiki', 'haeke', 'walloon', 'forest nenets', 'transligual', 'bandjalang', 'angloromani', 'musi', 'lingala', 'masaba', 'middle norwegian', 'fordata', 'indonesian bajau', 'southern amami-oshima', 'chhattisgarhi', 'thamudic', 'jewish literary aramaic', 'biao', 'torona', 'yoruba', 'arghu', 'ibibio', 'tonkawa', 'tuareg', 'proto-philippine', 'magadhi prakrit', 'hawaiian', 'parachi', 'middle korean', 'lizu', 'lunfardo', 'proto-loloish', 'oscan', 'yakkha', 'algerian arabic', 'torwali', 'eastern tamang', 'chinese pidgin english', 'bemba', 'proto-khoe', 'ossetian', 'zou', 'ateso', 'lak', 'tawellemmet', 'rapa nui', 'proto-scythian', 'ume sami', 'burji', 'singpho', 'limos kalinga', 'nukunu', 'lari', 'balinese', 'proto-nguni', 'enawené-nawé', 'nyoro', 'chol', 'yaqui', 'mamluk-kipchak', 'proto-indo-european', 'north efate', 'berawan', 'natanzi', 'mukulu', 'uyghur', 'proto-mon-khmer', 'rukai', 'ku', 'jamaican creole', 'matukar', 'lambadi', 'hupa', 'koyukon', 'jemez', 'siwi', 'southern ohlone', 'ifè', 'italian', 'tarao', 'numana', 'eastern bontoc', 'polish', 'old spanish', 'mursi', 'wulna', 'sivandi', 'nambya', 'greek', 'balantak', 'a-pucikwar', 'green hmong', 'omok', 'hehe', 'saaroa', 'huaxcaleca nahuatl', 'arvanitika albanian', 'western yugur', 'proto-iranian', 'yatee zapotec', 'koronadal blaan', 'munsee', 'albanian', 'woccon', 'east futuna', 'awngi', 'northumbrian old english', 'nyah kur', 'proto-hlai', \"li'o\", 'ndau', 'nzadi', 'isan', 'inc-psu', 'malvi', 'navarro-aragonese', 'niya prakrit', 'cowlitz', 'messapic', 'hungarian', 'ronga', 'mende', 'owa', 'chamba daka', 'kalanga', 'bonggi', 'padoe', 'fore', 'early assamese', 'mixtepec zapotec', 'palaic', 'totontepec mixe', 'old hindi', 'daasanach', 'haitian vodoun culture language', 'tuvaluan', 'bakhtiari', 'gvoko', 'dhivehi', 'safaitic', 'nheengatu', 'western juxtlahuaca mixtec', 'patpatar', 'camarines norte agta', 'apatani', 'alur', 'kokborok', 'aramaic', 'bondo', 'middle low german', 'inari sami', 'quimbaya', 'lomavren', 'geman', 'bonan', 'naskapi', 'amahai', 'umbrian', 'attic greek', 'proto-highland east cushitic', 'bughotu', 'old saxon', 'tiwi', 'toki pona', 'gwandara', 'moken', 'kayardild', 'chrau', 'hinukh', \"'are'are\", 'aranadan', 'pangasinan', 'aghem', 'amoy', 'juang', 'otoro', 'lamet', 'doe', 'gong', 'plautdietsch', 'old gutnish', 'arbëresh albanian', 'mazagway', 'middle bengali', 'aragonese', 'oluta popoluca', 'dzongkha', 'uspanteco', 'muya', 'southern catanduanes bicolano', 'warungu', 'saluan', 'hobyót', 'balangao', 'ansus', 'proto-bodo-garo', 'drehu', 'khwe', 'varli', 'central bontoc', 'belizean creole', 'purisimeño', 'nyaheun', 'wallisian', 'hone', 'angevin', 'karajá', 'awetí', 'proto-pama-nyungan', 'tangsa', 'suba', 'tày', 'temascaltepec nahuatl', 'xicotepec de juárez totonac', 'lhao vo', 'wolof', 'tyap', 'gujarati', 'khunsari', 'kansa', 'sudovian', 'yuchi', 'proto-halmahera-cenderawasih', 'maay', 'sicel', 'chong', 'ao', 'bourbonnais-berrichon', 'geser-gorom', 'nubi', 'mofu-gudur', 'proto-west germanic', 'tagbanwa', 'tlacolulita zapotec', 'lardil', 'kachama-ganjule', 'bura', 'proto-hmong-mien', 'chitimacha', 'kikuyu', 'markweeta', 'aukan', 'heiltsuk', 'chamorro', 'wuvulu-aua', 'asturian', 'northern kurdish', 'mongolian', 'livvi', 'akolet', 'american sign language', 'czech', 'lipan', 'parauk', 'sar', 'bajan', 'suevic', 'barombi', 'ngeq', 'coastal konjo', 'ngarrindjeri', 'chiquimulilla', 'jicarilla', 'old church slavonic', 'komering', 'pamplona atta', 'middle mongolian', 'pengo', 'mandarin', 'kui (india)', 'old kannada', 'burgundian', 'tepecano', 'tigre', 'arta', 'proto-salish', 'armeno-kipchak', 'mobilian', 'mapudungun', 'samaritan aramaic', \"q'anjob'al\", 'idiom neutral', 'classical persian', 'mandingo', 'old nubian', 'tiv', 'buol', 'aymara', 'kofyar', 'ottawa', 'drung', 'chichewa', 'huave', 'hrangkhol', 'khasi', 'kichwa', 'mafa', 'myn', 'ternate', 'kölsch', 'crimean gothic', 'tanimuca-retuarã', 'krahô', 'khwarezmian', 'transalpine gaulish', 'rungus', 'gutnish', 'middle iranian', 'nafaanra', 'arikara', 'gagauz', 'venetian', 'tsonga', 'dhuwal', 'kaiwá', 'sauraseni prakrit', 'wakawaka', 'daur', 'awabakal', 'muong', 'mozarabic', \"ma'anyan\", 'alcozauca mixtec', 'late babylonian', 'sateré-mawé', 'proto-nakh', 'muna', 'iraya', 'hiligaynon', 'fyam', 'sarcee', 'rumai palaung', 'illyrian', 'old dutch', 'abenlen ayta', 'kwaza', 'proto-numic', 'galice', 'hatran aramaic', 'orizaba nahuatl', 'samoan plantation pidgin', \"ch'orti'\", 'mexican spanish', 'deori', 'ekele', 'ankave', 'tolowa', 'forest enets', 'old polish', 'even', 'gmw-fri', 'ndonga', 'korana', 'kunza', 'dogri', 'zuojiang zhuang', 'tobanga', 'sarangani blaan', 'koko-bera', 'kusunda', 'motu', 'iraqi arabic', 'west makian', 'coptic', 'ndolo', 'ojibwe', 'sabaean', 'southern carrier', 'cauca', 'catalan', 'ingrian', 'proto-algonquian', 'tidore', 'ashokan prakrit', 'tawoyan', 'zay', 'inuktitut', 'proto-brythonic', 'ersu', 'wauja', 'hajong', 'ot danum', 'egyptian', 'nigerian pidgin', 'luwati', 'karbi', 'cupeño', 'mlahsö', 'badaga', 'vietnamese', 'dutch', 'ludian', 'nez perce', 'atayal', 'paraguayan guaraní', 'kuria', 'label', 'lower sorbian', 'proto-central new south wales', 'ahtna', 'afade', 'saraiki', 'hulaulá', 'ngombe (congo)', 'kwanyama', 'southern sama', 'galo', 'meänkieli', 'proto-yoruboid', 'maithili', 'rungwa', 'perema', 'hakka', 'xaragure', 'proto-polynesian', 'proto-afroasiatic', 'khalaj', 'tatar', 'tboli', 'esperanto', 'old tamil', 'alagwa', 'proto-abkhaz-abaza', 'chechen', 'chamicuro', 'north slavey', 'waigali', 'old breton', 'teanu', 'atong (india)', 'alu', 'hopi', 'kendayan', 'atakapa', 'luxembourgish', 'cahuilla', 'koryak', 'proto-tsezian', 'alemannic german', 'tandaganon', 'scots', 'balkan romani', 'parya', 'upper sorbian', 'cogui', 'nanai', 'tolaki', 'tawasa', 'chulym', 'guazacapán', 'ngadha', 'gbiri-niragu', \"yup'ik\", 'ancient ligurian', 'central tarahumara', 'tikopia', 'old south arabian', 'eastern mnong', \"selk'nam\", 'chinook', 'southern hindko', 'pangwa', 'de', 'proto-northwest caucasian', 'kings river yokuts', 'aghwan', \"toraja-sa'dan\", 'jingpho', 'bathari', 'yola', 'pangutaran sama', 'otomaco', 'guerrero nahuatl', 'gwere', 'lawangan', 'rejang kayan', 'chakavian serbo-croatian', 'classical syriac', 'bau bidayuh', 'adangme', 'kinikinao', 'pará gavião', 'kassonke', 'epie', 'proto-great andamanese', 'sankaran maninka', 'atong (cameroon)', 'yagaria', 'tindi', 'mogholi', 'oroch', 'awa-cuaiquer', 'kachchi', 'nopala chatino', 'latin', 'aynu', 'athpare', 'coast miwok', 'aeolic greek', 'german low german', 'khmer', 'old cornish', 'cajun french', 'zipser german', 'spanish', 'hainanese', 'atanques', 'chiricahua', 'ardhamagadhi prakrit', 'kiput', 'shuar', 'mag-indi ayta', 'texmelucan zapotec', 'dogrib', 'proto-chadic', 'silesian german', 'duun', 'brunei bisaya', 'ladakhi', 'jersey dutch', 'old italian', 'old malay', 'garo', 'papantla totonac', 'jarawa', 'burunge', 'khinalug', 'tera', 'pangwali', 'rembong', 'southern yukaghir', 'montana salish', 'pemon', 'tup', 'yemeni arabic', 'tlamacazapa nahuatl', 'gilaki', 'abaza', 'bezhta', 'ishkashimi', 'kasem', 'sumbawa', 'taimyr pidgin russian', 'proto-yeniseian', 'calusa', 'shoshone', 'nivaclé', 'thangmi', 'maranao', 'southern kurdish', 'tuamotuan', 'proto-armenian', 'jita', 'rennellese', 'cebuano', 'pitta-pitta', 'mwaghavul', 'marma', 'languedocien', 'crimean tatar', 'qatabanian', 'nuguria', 'bumthangkha', 'mohawk', 'east makian', 'fanagalo', 'saurashtra', 'nusu', 'nyaw', 'japhug', 'southern tutchone', 'sasak', 'magdalena peñasco mixtec', 'cherokee', 'squamish', 'ladino', 'babuza', 'ter sami', 'proto-samoyedic', 'kaqchikel', 'western bru', 'yidgha', 'mangghuer', 'duala', 'proto-palaungic', 'purepecha', 'modern israeli hebrew', 'akan', 'mòcheno', 'vedic sanskrit', 'hutterisch', 'poitevin-saintongeais', 'paiwan', 'neapolitan', 'sirenik', 'taymanitic', 'proto-oceanic', 'proto-semitic', 'sehwi', 'tezoatlán mixtec', 'northern khmer', 'proto-malayo-polynesian', 'proto-siouan-catawban', \"palu'e\", 'tulu', 'west coast bajau', 'hittite', 'tongan', 'old latin', 'northern haida', 'belait', 'a-hmao', 'negeri sembilan malay', 'kildin sami', 'tangoa', 'old georgian', 'réunion creole french', 'old tupi', 'mehri', 'iranun', 'east kewa', 'tai nüa', 'pitjantjatjara', 'mo', 'tsafiki', 'sla', 'northern east cree', 'mahou', 'minoan', 'bokar', 'punu', 'kayapa kallahan', 'ghomara', 'negidal', 'rarotongan', 'khoekhoe', 'nyiha', 'middle high german', 'modole', 'urum', 'yuma', 'godoberi', 'somali', 'proto-iwaidjan', 'igbo', 'lake miwok', 'ujir', 'maung', 'zoroastrian dari', 'proto-west semitic', 'old east slavic', 'north giziga', 'estonian', 'nalca', 'central mazahua', 'chepang', 'old tagalog', 'logudorese', 'basaa', 'central tagbanwa', 'nyâlayu', 'acholi', 'proto-avaro-andian', 'old hungarian', 'edomite', 'kok-nar', 'binukid', 'aa', 'old northern french', 'proto-sogdic', 'old mon', 'gunya', 'norman', 'mikasuki', 'awadhi', 'kankanaey', 'proto-western mande', 'tai dam', 'nupe', 'doteli', 'noone', 'kalo finnish romani', 'finnish', 'karo batak', 'carpathian romani', 'nyawaygi', 'banjarese', 'jamtish', 'armenian', 'proto-indo-aryan', 'sikkimese', 'gambera', 'malayalam', 'west uvean', 'kedah malay', 'kaingang', 'early modern korean', 'northern pumi', 'mandan', 'central nicobarese', 'sabir', 'urartian', 'southern tiwa', 'proto-mixtec', 'banyumasan', 'alanic', 'berom', 'cimbrian', 'bungu', 'western ojibwa', 'miyako', 'kamba', 'punjabi', 'qimant', 'rawang', 'tocharian b', 'paisaci prakrit', 'vai', 'sursurunga', 'ngf', 'tomadino', 'oki-no-erabu', 'ai-cham', 'baybayanon', 'phuthi', 'eastern arrernte', 'guanche', 'khün', 'tshangla', 'arhuaco', 'aiwoo', 'north levantine arabic', 'old coptic', 'esimbi', 'khakas', 'mölmsch', 'rajbanshi', 'hitchiti', 'mezquital otomi', 'zarma', 'duau', 'proto-pearic', 'ndali', 'yakan', 'ecclesiastical latin', 'kemak', 'min bei', 'jaqaru', 'ngiemboon', 'garifuna', 'apinayé', 'kanowit', 'zacatlán-ahuacatlán-tepetzintla nahuatl', 'teressa', 'zulu', 'wyandot', 'esan', 'baliledo', 'ulukwumi', 'proto-anatolian', 'sranan tongo', 'basay', 'mele-fila', 'tabasaran', 'taivoan', 'creek', 'elean greek', 'proto-kuki-chin', 'arabana', 'dargwa', 'muduapa', 'anuta', 'tai laing', 'chazumba mixtec', 'lala (south africa)', 'luwian', 'deg xinag', 'abureni', 'kagayanen', 'timucua', 'phalura', 'penrhyn', 'jersey norman', 'primitive irish', 'nanticoke', 'kalabari', 'old korean', 'mongondow', 'kolami', 'qfa-hur', 'central cagayan agta', 'picuris', 'nhanda', 'bolyu', 'michif', 'roro', 'indo-portuguese', 'southern valley yokuts', 'proto-khmuic', 'tooro', 'mundat', 'san martín itunyoso triqui', 'papiamentu', 'zealandic', 'kikai', 'betawi udik', 'proto-japonic', 'mahican', 'middle breton', 'karata', 'british english', 'wemba-wemba', 'omani arabic', 'naxi', 'caribbean hindustani', 'broome pearling lugger pidgin', 'makonde', 'hamer-banna', 'sakata', 'boloki', 'tzeltal', 'sarangani manobo', 'dyirbal', 'western tawbuid', 'yazghulami', 'halang', 'palauan', 'bargam', 'middle scots', 'classical nahuatl', 'breton', 'central bai', 'ǃxóõ', 'crow', 'amorite', 'betawi kota', 'friulian', 'cel-bry', 'sudanese arabic', 'elfdalian', 'dairi batak', 'selaru', 'namuyi', 'khaling', 'harsusi', 'yindjilandji', 'proto-monic', 'proto-mayan', 'proto-jê', 'kativiri', 'mandar', 'trinidadian creole english', 'shasta', 'mru', 'abui', 'banoni', 'gabadi', 'west damar', 'amdang', 'venetic', 'teke-laali', 'svan', 'archi', 'nauruan', 'hitu', 'hassaniya', 'early scots', 'northern talysh', 'tayert', 'sui', 'bookan', 'old catalan', 'matlatzinca', 'enggano', 'bu', 'southern haida', 'penobscot', 'badui', 'kodi', 'pnar', 'old leonese', 'kuuk thaayorre', 'southeast pashayi', 'urdu', 'sinacantán', 'plains cree', 'baoule', 'eastern mari', 'old provençal', 'wasa', 'sayula popoluca', 'rendille', 'ron', 'niuean', 'nemi', 'mojave', 'xârâcùù', 'matbat', 'digor', 'tsez', 'teiwa', 'savi', 'aka-bea', 'tolai', 'sheshi kham', 'nandi', 'pitcairn-norfolk', 'yakut', 'gondi', \"tz'utujil\", 'nyamwanga', 'esselen', 'limburgish', 'lamba', 'kabuverdianu', 'zuni', 'korwa', 'western keres', 'mokilese', 'erzya', 'gerka', 'lindu', 'kedang', 'classical quechua', 'janday', 'galambu', 'thracian', 'tourangeau', 'cashinahua', 'wakhi', 'abung', 'hadrami', 'bilbil', 'barngarla', 'cosoleacaque nahuatl', 'tarifit', 'andi', 'gem', 'pahari-potwari', 'takia', 'north ambrym', 'kove', 'kodava', 'puinave', 'engenni', 'chicahuaxtla triqui', 'nüpode huitoto', 'lai', 'khamti', 'afar', 'ngiyambaa', 'judeo-tat', 'zazaki', 'sangir', 'casiguran dumagat agta', 'rohingya', 'lashi', 'xsc', 'xibe', 'mandinka', 'unua', 'panamint', 'vracada apabhramsa', 'buryat', 'lillooet', 'proto-norse', 'shehri', 'chaldean neo-aramaic', 'alangan', 'cara', 'emae', 'mazanderani', 'siraya', 'wolio', 'old high german', 'rotokas', 'chilean sign language', 'kristang', 'gweno', 'jassic', 'izon', 'baldemu', 'south levantine arabic', 'zls', 'siculo-arabic', 'bissa', 'southern luri', 'rapoisi', 'transylvanian saxon', 'mara chin', 'mentawai', 'bura mabang', 'yombe', 'nogai', 'lishana deni', 'western xiangxi miao', 'macau pidgin portuguese', 'corsican', 'bikol central', 'guerrero amuzgo', 'mingrelian', 'mewari', 'bolinao', 'ganza', 'lombard', 'anyi', 'agawam', 'shuswap', 'aklanon', 'ngazidja comorian', 'babungo', 'urhobo', 'middle dutch', 'proto-takic', 'marathi', 'haryanvi', 'gamilaraay', 'northern thai', 'scanian', 'dura', 'arem', 'saterland frisian', 'anglian old english', 'papora', 'pai-lang', 'gaddang', 'proto-chukotko-kamchatkan', 'northern oaxaca nahuatl', 'proto-kalamian', 'sabine', 'cia-cia', 'koch', 'kadaru', 'chipewyan', 'proto-zapotec', 'bislama', 'proto-nubian', 'ho', 'lorrain', \"ge'ez\", 'proto-siouan', 'middle vietnamese', 'dagbani', 'tübatulabal', 'old swedish', 'punan tubu', 'alak', 'bihari', 'navajo', 'slovene', 'mayoyao ifugao', 'aiton', 'migaama', 'mbabaram', 'cel', 'pipil', 'nukuoro', 'sanglechi', 'pahanan agta', 'fayyumic coptic', 'ambala ayta', 'lycian', 'ditidaht', \"ida'an\", 'nyamwezi', 'myene', 'ainu', 'limbu', 'suba-simbiti', 'middle irish', 'ayomán', 'sai-jiv', 'kashubian', 'argobba', 'nilamba', 'sawi', 'sango', 'proto-sino-tibetan', 'amatlán zapotec', 'pidgin delaware', 'eastern ojibwa', 'ibanag', 'proto-north caucasian', 'gola', 'newar', 'chopi', 'chamalal', 'iron', 'bariai', 'papuan malay', 'bu-nao bunu', 'judeo-persian', 'phake', 'batuley', \"pa'o karen\", 'razihi', 'goguryeo', 'old awadhi', 'tokelauan', 'hdi', 'garawa', 'laz', 'warekena', 'balti', 'bulgarian', 'tonga (malawi)', 'north moluccan malay', 'proto-eastern malayo-polynesian', 'riantana', 'akkala sami', 'nyishi', 'mwali comorian', 'hebrew', 'gurjar apabhramsa', 'pökoot', 'proto-bungku-tolaki', 'nauna', 'woiwurrung', 'jewish babylonian aramaic', 'yemsa', 'ga', 'renaissance latin', 'northern hindko', 'bima', 'proto-sunda-sulawesi', 'numidian', 'dharug', 'guinea-bissau creole', 'andalusian arabic', 'aasax', 'agusan manobo', 'west flemish', 'isnag', 'classical sanskrit', 'northern puebla nahuatl', 'atikamekw', 'rerep', 'mpotovoro', 'middle armenian', 'mina', 'tat', 'proto-tai', 'ancient greek', 'goemai', 'itawit', 'andio', 'proto-otomian', 'mmen', 'western highland chatino', 'khamnigan mongol', 'samo', 'maasai', 'kuy', 'masbatenyo', 'yuri', 'edo', 'manda (india)', 'german sign language', 'jeju', 'chali', 'nakanai', 'san pedro quiatoni zapotec', 'saek', 'faroese', 'alabama', 'lagwan', 'tachawit', 'kashmiri', 'ventureño', 'eastern lawa', 'onondaga', 'northern sami', 'bankon', 'sinte romani', 'bwatoo', 'manam', 'ivatan', 'min nan', 'haida', 'jawe', 'romani', 'bishnupriya manipuri', 'saisiyat', 'moma', 'middle persian', 'ambonese malay', 'malasanga', 'che', 'middle median', 'irish', 'kamassian', 'sokna', 'proto-nuristani', 'pareci', 'central melanau', 'gros ventre', 'middle gujarati', 'kadiwéu', 'japanese', 'buduma', 'kanuri', 'hu', 'barambu', 'chickasaw', 'bantik', 'waray-waray', 'tok pisin', 'daai chin', 'eblaite', 'buhid', 'valencian', 'nyanga (congo)', 'shambala', 'hawaiian creole', 'mambae', 'azc', 'nayini', 'kusaal', 'doric greek', 'proto-tupian', 'tamasheq', 'demotic', 'malay', 'nyaturu', 'benga', 'serili', 'gottscheerish', 'nadëb', \"babine-witsuwit'en\", 'southern pumi', 'minica huitoto', 'sangu (gabon)', 'balkan gagauz turkish', 'palatine german', 'higaonon', 'ati', 'portuguese', 'uldeme', 'kurukh', 'sangisari', 'tsogo', 'mangarayi', 'batui', 'younger avestan', 'bidyara', 'ashkun', 'franc-comtois', 'tapayuna', 'vaghri', 'assan', 'hazaragi', 'mang', 'cumbric', 'olekha', 'northern paiute', 'yonaguni', 'kapampangan', 'dime', 'gallo', 'takka apabhramsa', 'kota marudu talantang', 'fali', 'old ukrainian', \"southern ma'di\", 'isekiri', 'juba arabic', 'proto-kartvelian', 'bulgar', 'makasar', 'classical malay', 'nicola', 'oriya', 'united states spanish', 'sokoro', 'ndzwani comorian', 'khitan', 'alune', 'switzerland italian', 'ammonite', 'isthmus zapotec', 'thulung', 'kaska', 'maltese', 'new sanskrit', 'dumi', 'huichol', 'northeastern korean', 'karipúna creole french', 'asho chin', 'manggarai', 'maonan', 'dakota', 'taraon', 'loloda', 'sathmar swabian', 'ashe', 'adnyamathanha', 'arawak', 'maguindanao', 'temne', 'obo manobo', 'erromintxela', 'tunisian arabic', 'herero', 'old bengali', 'lishán didán', 'mvuba', 'french', 'sebat bet gurage', 'gilbertese', 'proto-circassian', 'jakaltek', 'mussau-emira', 'wastek', 'ikulu', 'xavante', 'knaanic', 'mohegan-pequot', 'bende', 'taíno', 'braj', 'proto-otomi', 'njebi', 'polabian', 'tahltan', 'tigrinya', 'bats', 'epic greek', 'santa maría quiegolani zapotec', 'caac', 'central nahuatl', 'proto-mongolic', 'tsimshian', 'proto-oto-manguean', 'burui', 'cayuga', 'manichaean middle persian', 'sauraseni apabhramsa', 'west albay bikol', 'northern valley yokuts', 'gojri', 'konkani', 'southeast ijo', 'semelai', 'agutaynen', 'muak sa-aak', 'copainalá zoque', 'lela', 'mayi-thakurti', 'xhosa', 'chuvash', 'solon', 'ghotuo', 'kómnzo', 'bola', 'capiznon', 'proto-germanic', 'bilaspuri', 'igala', 'chuvan', 'mayo', 'mattole', 'sukur', 'alutor', 'mwan', 'kelabit', 'cañari', 'kipchak', 'woods cree', 'proto-malayic', 'kuku-yalanji', 'önge', 'yorta yorta', 'zaiwa', \"o'odham\", 'lojban', 'ancient macedonian', 'western huasteca nahuatl', 'written oirat', 'fala', 'slavomolisano', 'sulung', 'inc-<!--pra-->kha', 'gabi', 'samogitian', 'bondei', 'datooga', 'proto-hellenic', 'ratagnon', 'helong', 'kondekor', 'tavoyan', 'palawan batak', 'dama (sierra leone)', \"mi'kmaq\", 'beja', 'matengo', 'raetic', 'varhadi', 'mpade', 'nahuatl', 'sunam', 'soqotri', 'gallaecian', 'tule-kaweah yokuts', 'sindhi', 'vandalic', 'puyuma', 'khorezmian turkic', 'haitian creole', 'matal', 'iranian persian', 'guiqiong', 'gafat', 'budukh', 'seroa', 'kuvi', 'aghu tharrnggala', 'hadiyya', 'mitla zapotec', 'tagakaulu kalagan', 'old anatolian turkish', 'lakkia', 'greenlandic', 'gaulish', 'san miguel el grande mixtec', 'classical mandaic', 'udmurt', 'cypriot arabic', 'ngunawal', 'christian palestinian aramaic', 'ulch', 'dâw', 'okanagan', 'sogdian', 'mbugu', 'buddhist hybrid sanskrit', 'lepcha', 'bashkardi', 'matigsalug manobo', 'jangshung', 'pumé', 'chiquihuitlán mazatec', 'ǁani', 'bilba', 'marrucinian', 'dongxiang', 'cinta larga', 'norwegian bokmål', 'aleut', 'kosraean', 'wangkumara', 'barama', 'carabayo', 'kickapoo', 'nguôn', 'gedeo', 'horpa', 'sicilian', 'chukchi', 'mwotlap', 'bukiyip', 'torres strait creole', 'lule sami', 'eritai', 'hokkien', 'kanakuru', 'south franconian', 'mbukushu', 'tagalog', 'cun', 'stoney', 'tai dón', 'traveller norwegian', 'komi-zyrian', 'khotanese', 'proto-batak', 'hunsrik', 'zaniza zapotec', 'choctaw', 'buena vista yokuts', 'volapük', 'mno', 'austrian sign language', 'warrgamay', 'turkmen', 'dilling', 'san felipe otlaltepec popoloca', 'gedaged', 'cree', 'margu', 'kimbundu', 'proto-vietic', 'yawuru', 'karao', 'icelandic', 'rajasthani', 'southwest palawano', 'zauzou', 'indus kohistani', 'khalkha mongolian', 'tzotzil', 'western bukidnon manobo', 'proto-songhay', 'teochew', 'macedonian', 'shwe palaung', 'northern yukaghir', 'old prussian', 'mamanwa', 'sena', 'kulere', 'waskia', 'min dong', 'kumarbhag paharia', 'sio', 'anuak', \"kwak'wala\", 'pamlico', 'mandaic', 'chayuco mixtec', 'butuanon', 'dmn', 'late middle japanese', 'fon', 'old lithuanian', 'weyewa', 'celtiberian', 'ila', 'nyankole', 'kalami', 'blin', 'proto-nyulnyulan', 'tanacross', 'sambalpuri', 'calamian tagbanwa', 'sawai', 'burusu', 'sassarese', 'meriam', 'bukar-sadung bidayuh', 'madurese', 'quioquitani-quierí zapotec', 'tombulu', 'muellama', 'cuyunon', 'old west norse', 'sekani', 'proto-nuclear polynesian', 'interlingue', 'baekje', 'manx', 'unserdeutsch', 'banggai', 'lama bai', 'assamese', 'pagu', 'ghat', 'ladin', 'bobot', 'sinaugoro', 'golin', 'burmese', 'proto-nahuan', 'proto-aroid', 'gulf arabic', 'fyer', 'hijazi arabic', 'ngandi', 'lombardic', 'moore', 'lao', 'proto-athabaskan', 'manipuri', 'xiongnu', 'opata', 'simbali', 'duhwa', 'proto-trique', 'proto-munda', 'pela', 'proto-austroasiatic', 'ayutla mixtec', 'sakam', 'yangkaal', 'lü', 'fiji hindi', 'bengali', 'marrithiyel', 'borôro', 'kongo', 'central huasteca nahuatl', 'tamil', 'karingani', 'iu mien', 'bakung', 'izere', 'south picene', 'old french', 'ngas', 'lozi', 'highland puebla nahuatl', 'ineseño', 'imperial aramaic', 'proto-hurro-urartian', 'thao', 'tonga (zambia)', 'marwari', 'macushi', 'peere', 'proto-atayalic', 'kamarian', 'romblomanon', 'moloko', 'yoron', \"k'iche'\", 'old portuguese', 'proto-north sarawak', 'proto-austronesian', 'new latin', 'mecayapan nahuatl', 'gor', 'rapa', 'western kayah', 'rejang', 'pontic greek', 'catawba', 'tarok', 'byzantine greek', 'masiwang', 'leonese', 'krymchak', 'wolaytta', 'bagvalal', 'ncane', 'kven', 'karok', 'soninke', 'basque', 'el molo', 'old iranian', 'apalachee', 'proto-albanian', 'dahalo', 'proto-witotoan', 'sara kaba', 'slavey', 'jin', 'memoni', 'proto-central jê', 'malecite-passamaquoddy', 'tiruray', 'tuvan', 'canela', 'viya', 'wiyot', 'old chinese', 'bourguignon', 'emilian', 'mbay', 'southeast ambrym', 'avestan', 'swampy cree', 'pre-angkorian old khmer', 'proto-italic', 'as', 'pévé', 'bodo gadaba', 'classical tibetan', 'proto-finno-permic', 'white hmong', 'mauwake', 'abron', 'common bantu', 'powhatan', 'tagabawa', 'mimi of nachtigal', 'palenquero', 'central sama', 'ilongot', 'old japanese', 'east yugur', 'bactrian', 'talysh', 'musgu', 'proto-tibeto-burman', 'pear', 'garhwali', 'zhang-zhung', 'ǁxegwi', 'lepontic', 'piscataway', 'carolinian', 'norwegian', 'bulu (cameroon)', 'columbia-wenatchi', 'miskito', 'manchu', 'moose cree', 'proto-trans-new guinea', 'ponosakan', 'dungan', 'north mesopotamian arabic', 'assyrian neo-aramaic', 'wu', 'judeo-italian', 'proto-cerrado', 'sundanese', 'yapese', 'champenois', 'unami', 'wik-ngathana', 'proto-bahnaric', 'pali', 'proto-khasian', 'wintu', 'cretan greek', 'tashelhit', 'baba malay', 'aari', 'krio', 'phom', 'lithuanian', 'inuvialuktun', 'bube', 'kott', 'bunun', 'seim', 'ewe', 'proto-aslian', 'san juan guelavía zapotec', 'carolina algonquian', 'sikaiana', 'proto-algic', 'veps', 'western tamang', 'baagandji', 'guajajára', 'highland totonac', 'ine-pro', 'mango', 'blagar', 'southern sierra miwok', 'besemah', 'karaim', 'pe', 'old ossetic', 'nganasan', 'tilquiapan zapotec', 'kumaoni', 'tajik', 'ratahan', 'chuukese', 'negerhollands', 'yeniche', 'fox', 'hadza', 'embaloh', 'wanukaka', 'rade', 'angkola batak', 'fipa', 'proto-tungusic', 'proto-northeast caucasian', 'birgid', 'tofa', 'quiripi', 'southeastern korean', 'malgana', 'pileni', 'yatzachi zapotec', 'caló', 'old avestan', 'sholaga', 'nengone', 'fula', 'itzá', 'ometepec nahuatl', 'cazcan', 'noric', 'huaorani', 'winnebago', 'assiniboine', 'leti (indonesia)', 'jutish', 'turkish', 'romagnol', 'quenya', 'northern luri', 'yamdena', 'moksha', 'proto-tocharian', 'tangale', 'cora', 'tabaru', 'coatlán mixe', 'achagua', 'yevanic', 'awngthim', 'fwâi', 'wiradhuri', 'extremaduran', 'kumyk', 'proto-georgian-zan', 'cajonos zapotec', 'isubu', 'khazar', 'iberian', 'portugese', 'mambwe-lungu', 'hmwaveke', 'telugu', 'philistine', 'kumak', 'rincón zapotec', 'comox', 'khroskyabs', \"tae'\", 'aneityum', 'láadan', 'yuaga', 'piedmontese', 'ledo kaili', 'takuu', 'proto-mien', 'iwaidja', \"so'a\", 'botolan sambal', 'rotuman', 'ionic greek', 'old gujarati', 'car nicobarese', 'woi', 'rabha', 'iriga bicolano', 'phong-kniang', 'tsamai', 'low german', 'timugon murut', 'gusii', 'slovincian', 'naga pidgin', 'central mnong', 'cornish', 'gorontalo', 'southeastern tepehuan', 'warlpiri', 'makalero', 'iban', 'yupiltepeque', 'sirionó', 'munji', 'salar', 'lampung api', 'taliabu', 'judeo-arabic', 'palmyrene aramaic', \"urak lawoi'\", 'nyakyusa', 'proto-tupi-guarani', 'tibetan', 'kokota', 'dieri', 'narom', 'surigaonon', 'lacandon', 'kurtop', 'montagnais', 'michoacán nahuatl', 'miami', 'southwestern fars', 'muruwari', 'lamang', 'brahui', 'yug', 'ramandi', 'kajkavian serbo-croatian', 'picard', 'jurchen', 'comanche', 'shan', 'western pwo', 'haush', 'persian', 'miship', 'inonhan', 'alazapa', 'yagnobi', 'tosk albanian', 'cantonese', 'darmiya', 'caddo', 'rayón zoque', 'mising', 'proto-yupik', 'kathlamet', 'waneci', 'narragansett', 'lucanian', 'western lawa', 'northwestern korean', 'rioplatense spanish', 'gallurese', 'caranqui', 'gamale kham', 'koasati', 'sobei', 'maia', 'mangarevan', 'kawaiisu', 'georgian', 'middle hindi', 'swiss high german', 'maroon spirit language', 'zbu', 'taparita', 'proto-turkic', 'proto-southern jê', 'tapachultec', 'dazaga', 'proto-malayo-sumbawan', 'tetum', 'votic', 'll.', 'chiwere', 'eyak', 'tangam', 'lishanid noshan', 'midob', 'longuda', 'macoris', 'cavere', 'apurinã', 'kilivila', 'buli (indonesia)', 'kala lagaw ya', 'translingual', 'coastal kadazan', 'etymology', 'ukrainian', 'kyrgyz', 'zoogocho zapotec', 'mbuko', 'mauritian creole', 'ronji', 'ramoaaina', 'sechelt', 'ibatan', 'inupiaq', 'hlai', 'avar', 'thado chin', 'nootka', 'ayoquesco zapotec', 'nobiin', 'alviri-vidari', 'viennese german', 'sedang', 'tocharian a', 'dong', 'old belarusian', 'ugaritic', 'northern qiandong miao', 'icelandic sign language', 'egyptian arabic', 'dongolawi', 'chuanqiandian cluster miao', 'võro', 'galela', 'gheg albanian', 'gelao', 'thavung', 'westrobothnian', 'limilngan', 'gbari', 'middle mon', 'belarusian', 'yimchungru naga', 'halkomelem', 'chilcotin', 'biblical aramaic', 'bade', 'mansi', 'boeotian greek', 'yuki', 'barasana', 'seychellois creole', 'miji', 'nicaraguan creole', 'aghul', 'baure', 'lau', 'proto-berber', 'riang', 'yao', \"juǀ'hoan\", 'arcadocypriot greek', 'kambaata', 'warlmanpa', 'daba', 'trk-ogr', 'zacatepec chatino', 'puerto rican spanish', 'mono (california)', 'buwal', 'mizo', 'inabaknon', 'luhya', 'lakota', 'curripaco', 'mam', 'swabian', 'etymology=', 'central malay', 'morelos nahuatl', 'ende', 'english', 'samoan', 'wik-mungkan', 'maori', 'sai-car', 'nukak makú', 'antigua and barbuda creole english', 'malagasy', 'tshobdun', 'ayabadhu', 'awjila', 'duma', 'vlax romani', 'proto-chamic', 'galoli', 'araki', 'hismaic', 'gwara', 'dolgan', 'mapun', 'neo-babylonian', 'chimwiini', 'meroitic', 'chinook jargon', 'principense', 'indonesian', 'guugu yimidhirr', 'nv', 'berbice creole dutch', 'dezfuli', 'yosondúa mixtec', 'san pedro amuzgos amuzgo', 'proto-inuit', 'old norse', 'aka-kede', 'old armenian', 'kam', 'pi', \"dena'ina\", 'chachi', 'anakalangu', 'proto-samic', 'tsakhur', 'romanian', 'acehnese', 'sabu', 'dimasa', 'western cham', 'dupaningan agta', 'roviana', 'lower tanana', 'ahirani', 'bohairic coptic', 'marsian', 'lou', 'samaritan hebrew', 'koho', 'southern bai', 'proto-permic', 'angkorian old khmer', 'khanty', 'dass', 'interlingua', 'sika', 'ingush', 'rhine franconian', 'khowar', 'south slavey', 'situ', 'sambali', 'thompson', 'sira', 'tausug', 'upper chehalis', 'hurrian', 'carrier', 'southern kalinga', 'copala triqui', 'wutunhua', 'iraqw', 'latgalian', 'middle chinese', 'biao-jiao mien', 'proto-finnic', 'dobu', 'seri', 'prakrit', 'walmajarri', 'dumaitic', 'kalmyk', 'remontado agta', 'xgn', 'middle french', 'proto-korean', 'lolopo', 'louisiana creole french', 'proto-southwestern tai', 'muskum', 'saho', 'lisu', 'nǀuu', 'mongghul', 'xanaguía zapotec', 'chittagonian', 'vulgar latin', 'northern saharan berber', 'cocopa', 'umbu-ungu', 'venda', 'proto-finno-ugric', \"to'abaita\", 'inor', 'old khmer', 'alas-kluet batak', 'serbo-croatian', 'arin', 'central korean', 'southern sami', 'tsakonian', 'pumpokol', 'baluchi', 'khmu', 'pochutec', 'abure', 'pictish', 'saraveca', 'taroko', 'ghadames', 'siberian tatar', 'semnani', 'proto-south sulawesi', 'proto-oghuz', 'bamu', 'haya', 'tai do', 'samtao', 'tal', 'proto-karen', 'northeast maidu', 'kazakh', 'franco-provençal', 'bhojpuri', 'tewa', 'jeh', 'pintiini', 'proto-ryukyuan', 'south nuaulu', 'chavacano', 'klingon', 'sacapulteco', 'havasupai-walapai-yavapai', 'north marquesan', 'kriol', 'sabah bisaya', 'tamahaq', 'muzo', 'old burmese', 'musey', 'merey', 'pohnpeian', 'old welsh', 'chinali', 'proto-huitoto-ocaina', 'northern catanduanes bicolano', 'khumi chin', 'old persian', 'rakhine', 'kamviri', 'evenki', 'north frisian', 'tswana', 'middle assamese', 'kholosi', 'minangkabau', 'suyá', \"silt'e\", 'krim', 'vili', 'gmq-osw', 'kabardian', 'chaha', 'bardi', 'austrian german', 'bouyei', 'dahalik', 'southwestern korean', 'ja', 'northern tepehuan', 'darkinjung', 'cotabato manobo', \"brooke's point palawano\", 'yolmo', 'silesian', 'chaima', 'southern ndebele', 'urubú-kaapor', 'az', 'klamath-modoc', 'sabah malay', 'kalasha', 'glavda', 'tabasco chontal', 'lele (guinea)', 'ancient north arabian', 'pashto', 'tauya', 'digo', 'sukuma', 'haveke', 'southern rincon zapotec', 'yurok', 'latvian', 'petjo', 'sandawe', 'nl', 'zia', 'lusi', 'romansch', 'podoko', 'northern qiang', 'tahitian', 'yami', 'yalakalore', 'luo', 'east franconian', 'old javanese', 'northern amami-oshima', 'shelta', 'bai', 'seneca', 'holikachuk', 'eastern cham', 'chimariko', 'proto-min', 'burushaski', 'ketangalan', 'guwar', 'karachay-balkar', 'nuer', 'alaba', '=etymology', 'pennsylvania german', 'onin', 'beaver', 'rwanda-rundi', 'kalkatungu', 'queyu', 'sotho', 'kinnauri', 'beothuk', 'saint dominican creole french', 'kawésqar', 'maykulan', 'old occitan', 'gela', 'isthmus mixe', 'osage', 'odut', 'central siberian yupik', 'kisar', 'asoa', 'tsat', 'raga', 'scottish gaelic', 'old english', 'baluan-pam', 'omaha-ponca', 'mangbetu', 'macanese', 'central franconian', 'turoyo', 'proto-slavic', 'orléanais', 'proto-yukaghir', 'middle bulgarian', 'magahi', 'kabyle', 'santali', 'french sign language', 'northern roglai', 'komi-permyak', 'mirandese', 'irula', 'paite', 'mota', 'lushootseed', 'miriwung', 'leti (cameroon)', 'wanyi', 'western maninkakan', 'ahom', 'manao', 'kashaya', 'bulo stieng', 'maratino', 'tsou', 'kibena', 'orok', 'xianbei', 'tlingit', 'chagatai', 'sylheti', 'lele (chad)', 'trió', 'gulay', 'panyjima', 'northern altai', 'simalungun batak', 'mon', 'oneida', 'giangan', 'sakizaya', 'umbundu', 'roa', 'ngoni', 'middle english', 'makah', 'tolomako', 'labuk-kinabatangan kadazan', \"ma'di\", 'lapine', 'highland popoluca', 'buginese', 'baltic romani', 'baram kayan', 'martuthunira', 'apalaí', 'lahu', 'bavarian', 'shor', 'kapingamarangi', 'oromo', 'sãotomense', 'sarikoli', 'proto-kam-sui', 'kensiu', 'ido', 'yeyi', 'kirya-konzel', 'pukapukan', 'uab meto', 'khasa prakrit', 'swazi', 'fiu-fin-pro <!-- nf -->', 'libyan arabic', 'kuna', 'zhuang', 'yucatec maya', 'okinawan', 'murui huitoto', 'proto-hmong', 'montol', 'oroqen', 'gurani', 'spokane', 'tadyawan', 'wotu', 'osatu', 'cheyenne', 'pingelapese', 'karelian', 'udihe', 'nuk', 'western apache', 'xamtanga', 'proto-lezghian', 'muyang', 'dyula', 'luiseño', 'sidamo', 'karakalpak', 'cuvok', 'proto-bantu', 'duruwa', 'mpalitjanh', 'amahuaca', 'kohistani shina', 'bedjond', 'lusitanian', 'narungga', 'maquiritari', 'camtho', 'danish', 'bahing', 'bunama', 'cumanagoto', 'wandala', 'proto-katuic', 'gugu badhun', 'proto-celtic', 'brazilian portuguese', 'megleno-romanian', 'tepeuxila cuicatec', 'kerinci', 'nen', 'zaghawa', 'volscian', 'efik', 'luguru', 'tasmanian', 'sinicahua mixtec', 'dacian', 'kunigami', 'skolt sami', 'abenaki', 'bole', 'chakma', 'gonja', 'late old korean', 'proto-eskimo', 'old irish', 'lezgi', 'pirahã', \"q'eqchi\", 'pykobjê', 'central kurdish', 'west frisian', 'bahnar', 'tagal murut', 'pamona', 'northern sotho', 'chichicapan zapotec', 'island carib', 'gandhari', 'ngete', 'logooli', 'eastern pwo', 'nung', 'betawi', 'middle cornish', 'south giziga', 'chibcha', 'ute', 'western mari', 'azerbaijani', 'sinhalese', 'blang', 'tedim chin', 'shangsi zhuang', 'zigula', 'lingao', 'temein', 'kalenjin', 'proto-malayo-chamic', 'mulao', 'canadian french', 'aequian', 'proto-dargwa', 'lubuagan kalinga', 'bundeli', 'yukjin korean', 'washo', 'teposcolula mixtec', 'miju', 'kap', 'south marquesan', 'old east norse', 'tangut', 'yakima', 'kinaray-a', 'proto-eastern polynesian', 'western panjabi', 'sanskrit', 'maleu-kilenge', 'dutch low saxon', 'chimalapa zoque', 'sabaot', 'dadanitic', 'futuna-aniwa', 'kono (sierra leone)', 'black speech', 'old median', 'norn', 'kuamasi', 'northern bai', 'tehuelche', 'lunda', 'old uyghur', 'woleaian', 'adele', 'classical newar', 'switzerland french', 'wab', 'thai', 'ܶassyrian neo-aramaic', 'blackfoot', 'proto-lampungic', 'pite sami', 'klallam', 'biak', 'dinka', 'annobonese', 'phrygian', 'middle khmer', 'trk', 'proto-oto-pamean', 'middle welsh', 'kom (cameroon)', 'kermanic', 'wayuu', 'kharia', 'denya', 'makhuwa-meetto', 'harzani', 'harari', 'san juan atzingo popoloca', 'fijian', 'zhx', 'yucuna', 'nimadi', 'itelmen', 'taos', 'bagheli', 'kumzari', 'tambas', 'vumbu', 'yámana', 'mwani', 'ibaloi', 'kaurna', 'tartessian', 'kayapó', 'bidiyo', 'karekare', 'proto-basque', 'laiyolo', 'vilamovian', 'gashowu', 'tobelo', 'yidiny', 'akhvakh', 'central subanen', 'jewish palestinian aramaic', 'chuj', 'manado malay', 'gabrielino-fernandeño', 'botlikh', 'keley-i kallahan', 'central dusun', 'potawatomi', 'old czech', 'lotud', 'classical mongolian', 'late latin', 'minaean', 'yankunytjatjara', 'gayo', 'ilocano', 'chut', 'massachusett', 'tsotsitaal', 'yaygir', 'kwaya', 'baatonum', 'maore comorian', 'horom', 'pijin', 'adyghe', 'simeulue', 'zhaba', 'livonian', 'middle georgian', 'swedish', \"gwich'in\", 'yogad', 'yagara', 'nong zhuang', 'anong', 'kurnai', 'biao mon', 'biblical hebrew', 'temiar', 'besisi', 'mada (nigeria)', 'aromanian', 'tumbuka', 'korku', 'undetermined', 'gogo', 'swahili', 'moabite', 'dibabawon manobo', 'german', 'kitanemuk', 'umpila', 'norwegian nynorsk', 'phoenician', 'bella coola', 'tobian', 'yamphu', 'amis', 'bashkir', 'old punjabi', 'lun bawang', 'irarutu', 'arosi', 'mudburra', 'kalagan', 'tetelcingo nahuatl', 'baiso', 'hiri motu', 'guaraní', 'afrikaans', 'jarai', 'xerénte', 'proto-be', 'toba batak', 'karakhanid', 'ottoman turkish', 'uruangnirin', 'jutiapa', 'acadian french', 'classical tagalog', 'novial', 'brunei malay', 'moroccan amazigh', 'dangaléat', 'arapaho', 'proto-baltic', 'mopan maya', 'galician', 'volga german', 'akkadian', 'old turkic', 'buru (indonesia)', 'tarantino', 'idu', 'sha', 'old tati', 'kumeyaay', 'safwa', 'proto-indo-iranian', 'quapaw', 'niuatoputapu', 'lumbu', 'babole', 'northern tujia', 'angika', 'achang', 'elamite', 'mochica', 'welsh romani', 'kanufi', 'nyunga', 'tangkhul naga', 'sumerian', 'common turkic', 'deccani', 'aquitanian', 'kryts', 'istriot', 'central atlas tamazight', 'numbami', 'eastern katu', 'alutiiq', 'proto-pnar-khasi-lyngngam', 'najdi arabic', 'duna', 'chru', 'toku-no-shima', 'gascon', 'tomini', 'udi', 'guanano', 'wolane', 'bambara', 'lemnian', 'balangingi', 'dari', 'mamboru', 'proto-uto-aztecan', 'paulohi', 'proto-north halmahera', 'northern sierra miwok', 'proto-central-eastern malayo-polynesian', 'occitan', 'ikizu', 'slovak', 'eastern huasteca nahuatl', 'naukanski', 'ngam', 'bnt', 'dukhan', 'fiu-fin', 'galatian', 'luba-kasai', 'menominee', 'western katu', 'literary chinese', 'domari', 'kamta', 'zimba', 'arabic', 'nias', 'hanunoo', 'ili turki', 'gmq', 'hattic', 'dinapigue agta', 'sichuan yi', 'teojomulco chatino', 'zulgo-gemzek', 'proto-kham', \"are'are\", 'guianese creole', 'pattani malay', 'medieval latin', 'proto-dravidian', 'ligurian', 'nzima'}\n"
     ]
    },
    {
     "data": {
      "text/plain": [
       "[{'id': 2979, 'name': 'pattani malay'},\n",
       " {'id': 2980, 'name': 'medieval latin'},\n",
       " {'id': 2981, 'name': 'proto-dravidian'},\n",
       " {'id': 2982, 'name': 'ligurian'},\n",
       " {'id': 2983, 'name': 'nzima'}]"
      ]
     },
     "execution_count": 65,
     "metadata": {},
     "output_type": "execute_result"
    }
   ],
   "source": [
    "# create language link-node data\n",
    "et['lang_clean'] = et['lang'].str.strip().str.lower()\n",
    "et['related_lang_clean'] = et['related_lang'].str.strip().str.lower().fillna('')\n",
    "\n",
    "langs = set(et['lang_clean'])\n",
    "langs.update(et['related_lang_clean'])\n",
    "langs.remove('')\n",
    "print(langs)\n",
    "# langs.remove('')\n",
    "langs = list(langs)\n",
    "nodes = [{'id': i, 'name': langs[i]} for i in range(len(langs))]\n",
    "nodes[-5:]"
   ]
  },
  {
   "cell_type": "code",
   "execution_count": 68,
   "metadata": {},
   "outputs": [
    {
     "data": {
      "text/html": [
       "<div>\n",
       "<style scoped>\n",
       "    .dataframe tbody tr th:only-of-type {\n",
       "        vertical-align: middle;\n",
       "    }\n",
       "\n",
       "    .dataframe tbody tr th {\n",
       "        vertical-align: top;\n",
       "    }\n",
       "\n",
       "    .dataframe thead th {\n",
       "        text-align: right;\n",
       "    }\n",
       "</style>\n",
       "<table border=\"1\" class=\"dataframe\">\n",
       "  <thead>\n",
       "    <tr style=\"text-align: right;\">\n",
       "      <th></th>\n",
       "      <th>lang_clean</th>\n",
       "      <th>related_lang_clean</th>\n",
       "      <th>reltype</th>\n",
       "      <th>term</th>\n",
       "    </tr>\n",
       "  </thead>\n",
       "  <tbody>\n",
       "    <tr>\n",
       "      <th>0</th>\n",
       "      <td>'are'are</td>\n",
       "      <td>are'are</td>\n",
       "      <td>compound_of</td>\n",
       "      <td>6</td>\n",
       "    </tr>\n",
       "    <tr>\n",
       "      <th>1</th>\n",
       "      <td>'are'are</td>\n",
       "      <td>hawaiian</td>\n",
       "      <td>cognate_of</td>\n",
       "      <td>2</td>\n",
       "    </tr>\n",
       "    <tr>\n",
       "      <th>2</th>\n",
       "      <td>'are'are</td>\n",
       "      <td>maori</td>\n",
       "      <td>cognate_of</td>\n",
       "      <td>2</td>\n",
       "    </tr>\n",
       "    <tr>\n",
       "      <th>3</th>\n",
       "      <td>'are'are</td>\n",
       "      <td>proto-austronesian</td>\n",
       "      <td>etymologically_related_to</td>\n",
       "      <td>2</td>\n",
       "    </tr>\n",
       "    <tr>\n",
       "      <th>4</th>\n",
       "      <td>'are'are</td>\n",
       "      <td>proto-austronesian</td>\n",
       "      <td>inherited_from</td>\n",
       "      <td>7</td>\n",
       "    </tr>\n",
       "  </tbody>\n",
       "</table>\n",
       "</div>"
      ],
      "text/plain": [
       "  lang_clean  related_lang_clean                    reltype  term\n",
       "0   'are'are             are'are                compound_of     6\n",
       "1   'are'are            hawaiian                 cognate_of     2\n",
       "2   'are'are               maori                 cognate_of     2\n",
       "3   'are'are  proto-austronesian  etymologically_related_to     2\n",
       "4   'are'are  proto-austronesian             inherited_from     7"
      ]
     },
     "metadata": {},
     "output_type": "display_data"
    }
   ],
   "source": [
    "grouped = et[(et['related_lang_clean'] != '') & (et['lang_clean'] != et['related_lang_clean'])].groupby(by=['lang_clean','related_lang_clean','reltype'])[['term']].count().reset_index()\n",
    "display(grouped.head())\n",
    "link_dict = {}\n",
    "for i, row in grouped.iterrows():\n",
    "    key = (row['lang_clean'].strip().lower(), row['related_lang_clean'].strip().lower())\n",
    "    if key[::-1] in link_dict: # reverse direction is already in the dict\n",
    "        key = key[::-1]\n",
    "    if key not in link_dict: # if pair is new to the dictionary\n",
    "        link_dict[key] = {'source': langs.index(key[0]), 'target': langs.index(key[1])}\n",
    "    if row['reltype'] not in link_dict[key]:\n",
    "        link_dict[key][row['reltype']] = 0\n",
    "    link_dict[key][row['reltype']] += row['term'] # add the current term count to the dictionary"
   ]
  },
  {
   "cell_type": "code",
   "execution_count": 69,
   "metadata": {},
   "outputs": [
    {
     "data": {
      "text/plain": [
       "[{'source': 427, 'target': 2977, 'compound_of': 6, 'value': 3410},\n",
       " {'source': 427, 'target': 284, 'cognate_of': 2, 'value': 713},\n",
       " {'source': 427, 'target': 2277, 'cognate_of': 2, 'value': 2706},\n",
       " {'source': 427,\n",
       "  'target': 1876,\n",
       "  'etymologically_related_to': 2,\n",
       "  'inherited_from': 7,\n",
       "  'value': 2312},\n",
       " {'source': 427, 'target': 2948, 'derived_from': 2, 'value': 3377}]"
      ]
     },
     "execution_count": 69,
     "metadata": {},
     "output_type": "execute_result"
    }
   ],
   "source": [
    "links = list(link_dict.values())\n",
    "for link in links:\n",
    "    total = sum([val for val in link.values() if isinstance(val, int)])\n",
    "    link['value'] = total\n",
    "links[:5]"
   ]
  },
  {
   "cell_type": "code",
   "execution_count": 70,
   "metadata": {},
   "outputs": [],
   "source": [
    "data_out = {'nodes':nodes,\n",
    "            'links':links}\n",
    "# with open('../data/lang_links.json', \"w\", encoding=\"utf-8\") as outfile: # even if there's an error, \n",
    "#         outfile.write(json.dumps(data_out, indent=4))"
   ]
  },
  {
   "attachments": {},
   "cell_type": "markdown",
   "metadata": {},
   "source": [
    "## Wordnet - not using anymore"
   ]
  },
  {
   "attachments": {},
   "cell_type": "markdown",
   "metadata": {},
   "source": [
    "Wordnet documentation: https://www.nltk.org/api/nltk.corpus.reader.wordnet.html#module-nltk.corpus.reader.wordnet"
   ]
  },
  {
   "cell_type": "code",
   "execution_count": 2,
   "metadata": {},
   "outputs": [
    {
     "name": "stderr",
     "output_type": "stream",
     "text": [
      "[nltk_data] Downloading package wordnet to\n",
      "[nltk_data]     C:\\Users\\eviye\\AppData\\Roaming\\nltk_data...\n",
      "[nltk_data]   Package wordnet is already up-to-date!\n",
      "[nltk_data] Downloading package omw-1.4 to\n",
      "[nltk_data]     C:\\Users\\eviye\\AppData\\Roaming\\nltk_data...\n",
      "[nltk_data]   Package omw-1.4 is already up-to-date!\n"
     ]
    },
    {
     "data": {
      "text/plain": [
       "True"
      ]
     },
     "execution_count": 2,
     "metadata": {},
     "output_type": "execute_result"
    }
   ],
   "source": [
    "import nltk\n",
    "from nltk.corpus import wordnet\n",
    "nltk.download('wordnet')\n",
    "nltk.download('omw-1.4')"
   ]
  },
  {
   "cell_type": "code",
   "execution_count": 17,
   "metadata": {},
   "outputs": [
    {
     "name": "stdout",
     "output_type": "stream",
     "text": [
      "a score in baseball made by a runner touching all four bases safely\n",
      "make without a miss\n"
     ]
    }
   ],
   "source": [
    "counts = set()\n",
    "wordnet.lemmas('run')[0].attributes()\n",
    "for lemma in wordnet.lemmas('run'):\n",
    "    counts.add(lemma.count())\n",
    "counts\n",
    "\n",
    "print(wordnet.lemmas('run')[0].synset().definition())\n",
    "print(wordnet.lemmas('run')[0].derivationally_related_forms()[0].synset().definition())"
   ]
  },
  {
   "cell_type": "code",
   "execution_count": null,
   "metadata": {},
   "outputs": [],
   "source": []
  }
 ],
 "metadata": {
  "kernelspec": {
   "display_name": "Python 3",
   "language": "python",
   "name": "python3"
  },
  "language_info": {
   "codemirror_mode": {
    "name": "ipython",
    "version": 3
   },
   "file_extension": ".py",
   "mimetype": "text/x-python",
   "name": "python",
   "nbconvert_exporter": "python",
   "pygments_lexer": "ipython3",
   "version": "3.11.3"
  },
  "orig_nbformat": 4
 },
 "nbformat": 4,
 "nbformat_minor": 2
}
