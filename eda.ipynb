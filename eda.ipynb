{
 "cells": [
  {
   "attachments": {},
   "cell_type": "markdown",
   "metadata": {},
   "source": [
    "Wordnet documentation: https://www.nltk.org/api/nltk.corpus.reader.wordnet.html#module-nltk.corpus.reader.wordnet"
   ]
  },
  {
   "cell_type": "code",
   "execution_count": 2,
   "metadata": {},
   "outputs": [
    {
     "name": "stderr",
     "output_type": "stream",
     "text": [
      "[nltk_data] Downloading package wordnet to\n",
      "[nltk_data]     C:\\Users\\eviye\\AppData\\Roaming\\nltk_data...\n",
      "[nltk_data]   Package wordnet is already up-to-date!\n",
      "[nltk_data] Downloading package omw-1.4 to\n",
      "[nltk_data]     C:\\Users\\eviye\\AppData\\Roaming\\nltk_data...\n",
      "[nltk_data]   Package omw-1.4 is already up-to-date!\n"
     ]
    },
    {
     "data": {
      "text/plain": [
       "True"
      ]
     },
     "execution_count": 2,
     "metadata": {},
     "output_type": "execute_result"
    }
   ],
   "source": [
    "import pandas as pd\n",
    "import nltk\n",
    "from nltk.corpus import wordnet\n",
    "nltk.download('wordnet')\n",
    "nltk.download('omw-1.4')"
   ]
  },
  {
   "cell_type": "code",
   "execution_count": 4,
   "metadata": {},
   "outputs": [
    {
     "data": {
      "text/html": [
       "<div>\n",
       "<style scoped>\n",
       "    .dataframe tbody tr th:only-of-type {\n",
       "        vertical-align: middle;\n",
       "    }\n",
       "\n",
       "    .dataframe tbody tr th {\n",
       "        vertical-align: top;\n",
       "    }\n",
       "\n",
       "    .dataframe thead th {\n",
       "        text-align: right;\n",
       "    }\n",
       "</style>\n",
       "<table border=\"1\" class=\"dataframe\">\n",
       "  <thead>\n",
       "    <tr style=\"text-align: right;\">\n",
       "      <th></th>\n",
       "      <th>term_id</th>\n",
       "      <th>lang</th>\n",
       "      <th>term</th>\n",
       "      <th>reltype</th>\n",
       "      <th>related_term_id</th>\n",
       "      <th>related_lang</th>\n",
       "      <th>related_term</th>\n",
       "      <th>position</th>\n",
       "      <th>group_tag</th>\n",
       "      <th>parent_tag</th>\n",
       "      <th>parent_position</th>\n",
       "    </tr>\n",
       "  </thead>\n",
       "  <tbody>\n",
       "    <tr>\n",
       "      <th>0</th>\n",
       "      <td>8_rYLlLyVOKJlGFPZIvpVA</td>\n",
       "      <td>English</td>\n",
       "      <td>thesaurus</td>\n",
       "      <td>group_derived_root</td>\n",
       "      <td>NaN</td>\n",
       "      <td>NaN</td>\n",
       "      <td>NaN</td>\n",
       "      <td>0</td>\n",
       "      <td>0IIU6TlkSA2D7dg1PfxGOw</td>\n",
       "      <td>NaN</td>\n",
       "      <td>NaN</td>\n",
       "    </tr>\n",
       "    <tr>\n",
       "      <th>1</th>\n",
       "      <td>8_rYLlLyVOKJlGFPZIvpVA</td>\n",
       "      <td>English</td>\n",
       "      <td>thesaurus</td>\n",
       "      <td>borrowed_from</td>\n",
       "      <td>fhl-sdgwXaWvYD8CgaKXpQ</td>\n",
       "      <td>Latin</td>\n",
       "      <td>thēsaurus</td>\n",
       "      <td>0</td>\n",
       "      <td>NaN</td>\n",
       "      <td>0IIU6TlkSA2D7dg1PfxGOw</td>\n",
       "      <td>0.0</td>\n",
       "    </tr>\n",
       "    <tr>\n",
       "      <th>2</th>\n",
       "      <td>8_rYLlLyVOKJlGFPZIvpVA</td>\n",
       "      <td>English</td>\n",
       "      <td>thesaurus</td>\n",
       "      <td>derived_from</td>\n",
       "      <td>7Rf1835bWYmlH9VnyYVbpg</td>\n",
       "      <td>Ancient Greek</td>\n",
       "      <td>θησαυρός</td>\n",
       "      <td>0</td>\n",
       "      <td>NaN</td>\n",
       "      <td>0IIU6TlkSA2D7dg1PfxGOw</td>\n",
       "      <td>1.0</td>\n",
       "    </tr>\n",
       "    <tr>\n",
       "      <th>3</th>\n",
       "      <td>8_rYLlLyVOKJlGFPZIvpVA</td>\n",
       "      <td>English</td>\n",
       "      <td>thesaurus</td>\n",
       "      <td>doublet_with</td>\n",
       "      <td>sqiifJX3XIOQ0vZ0trzRaA</td>\n",
       "      <td>English</td>\n",
       "      <td>treasure</td>\n",
       "      <td>0</td>\n",
       "      <td>NaN</td>\n",
       "      <td>NaN</td>\n",
       "      <td>NaN</td>\n",
       "    </tr>\n",
       "    <tr>\n",
       "      <th>4</th>\n",
       "      <td>iwDzanYmWxaUKbOlUy2yyQ</td>\n",
       "      <td>Latin</td>\n",
       "      <td>thesaurus</td>\n",
       "      <td>derived_from</td>\n",
       "      <td>7Rf1835bWYmlH9VnyYVbpg</td>\n",
       "      <td>Ancient Greek</td>\n",
       "      <td>θησαυρός</td>\n",
       "      <td>0</td>\n",
       "      <td>NaN</td>\n",
       "      <td>NaN</td>\n",
       "      <td>NaN</td>\n",
       "    </tr>\n",
       "  </tbody>\n",
       "</table>\n",
       "</div>"
      ],
      "text/plain": [
       "                  term_id     lang       term             reltype  \\\n",
       "0  8_rYLlLyVOKJlGFPZIvpVA  English  thesaurus  group_derived_root   \n",
       "1  8_rYLlLyVOKJlGFPZIvpVA  English  thesaurus       borrowed_from   \n",
       "2  8_rYLlLyVOKJlGFPZIvpVA  English  thesaurus        derived_from   \n",
       "3  8_rYLlLyVOKJlGFPZIvpVA  English  thesaurus        doublet_with   \n",
       "4  iwDzanYmWxaUKbOlUy2yyQ    Latin  thesaurus        derived_from   \n",
       "\n",
       "          related_term_id   related_lang related_term  position  \\\n",
       "0                     NaN            NaN          NaN         0   \n",
       "1  fhl-sdgwXaWvYD8CgaKXpQ          Latin    thēsaurus         0   \n",
       "2  7Rf1835bWYmlH9VnyYVbpg  Ancient Greek     θησαυρός         0   \n",
       "3  sqiifJX3XIOQ0vZ0trzRaA        English     treasure         0   \n",
       "4  7Rf1835bWYmlH9VnyYVbpg  Ancient Greek     θησαυρός         0   \n",
       "\n",
       "                group_tag              parent_tag  parent_position  \n",
       "0  0IIU6TlkSA2D7dg1PfxGOw                     NaN              NaN  \n",
       "1                     NaN  0IIU6TlkSA2D7dg1PfxGOw              0.0  \n",
       "2                     NaN  0IIU6TlkSA2D7dg1PfxGOw              1.0  \n",
       "3                     NaN                     NaN              NaN  \n",
       "4                     NaN                     NaN              NaN  "
      ]
     },
     "execution_count": 4,
     "metadata": {},
     "output_type": "execute_result"
    }
   ],
   "source": [
    "et = pd.read_csv('etymology.csv', nrows=6)\n",
    "et.head()"
   ]
  },
  {
   "cell_type": "code",
   "execution_count": 17,
   "metadata": {},
   "outputs": [
    {
     "name": "stdout",
     "output_type": "stream",
     "text": [
      "a score in baseball made by a runner touching all four bases safely\n",
      "make without a miss\n"
     ]
    }
   ],
   "source": [
    "counts = set()\n",
    "wordnet.lemmas('run')[0].attributes()\n",
    "for lemma in wordnet.lemmas('run'):\n",
    "    counts.add(lemma.count())\n",
    "counts\n",
    "\n",
    "print(wordnet.lemmas('run')[0].synset().definition())\n",
    "print(wordnet.lemmas('run')[0].derivationally_related_forms()[0].synset().definition())"
   ]
  },
  {
   "cell_type": "code",
   "execution_count": null,
   "metadata": {},
   "outputs": [],
   "source": []
  }
 ],
 "metadata": {
  "kernelspec": {
   "display_name": "Python 3",
   "language": "python",
   "name": "python3"
  },
  "language_info": {
   "codemirror_mode": {
    "name": "ipython",
    "version": 3
   },
   "file_extension": ".py",
   "mimetype": "text/x-python",
   "name": "python",
   "nbconvert_exporter": "python",
   "pygments_lexer": "ipython3",
   "version": "3.9.2"
  },
  "orig_nbformat": 4
 },
 "nbformat": 4,
 "nbformat_minor": 2
}
